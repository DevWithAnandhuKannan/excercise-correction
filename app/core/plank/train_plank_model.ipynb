{
 "cells": [
  {
   "cell_type": "code",
   "execution_count": 2,
   "metadata": {},
   "outputs": [
    {
     "name": "stdout",
     "output_type": "stream",
     "text": [
      "Logistic Regression -> CV Accuracy: 0.9928, Test Accuracy: 0.9958\n",
      "Random Forest -> CV Accuracy: 0.7704, Test Accuracy: 0.9056\n",
      "Gradient Boosting -> CV Accuracy: 0.8268, Test Accuracy: 0.9155\n",
      "SVM -> CV Accuracy: 0.8981, Test Accuracy: 0.9873\n",
      "KNN -> CV Accuracy: 0.6891, Test Accuracy: 0.9507\n",
      "Best model (Logistic Regression) saved with accuracy: 0.9958\n",
      "X_train shape: (28520, 68)\n",
      "Number of features expected: 68\n"
     ]
    }
   ],
   "source": [
    "import os\n",
    "import numpy as np\n",
    "import pandas as pd\n",
    "import joblib\n",
    "from sklearn.model_selection import train_test_split, cross_val_score\n",
    "from sklearn.preprocessing import StandardScaler\n",
    "from sklearn.linear_model import LogisticRegression\n",
    "from sklearn.ensemble import RandomForestClassifier, GradientBoostingClassifier\n",
    "from sklearn.svm import SVC\n",
    "from sklearn.neighbors import KNeighborsClassifier\n",
    "from sklearn.metrics import accuracy_score\n",
    "\n",
    "# Define important landmarks for plank detection\n",
    "IMPORTANT_LMS = [\n",
    "    \"NOSE\", \"LEFT_SHOULDER\", \"RIGHT_SHOULDER\", \"LEFT_ELBOW\", \"RIGHT_ELBOW\",\n",
    "    \"LEFT_WRIST\", \"RIGHT_WRIST\", \"LEFT_HIP\", \"RIGHT_HIP\", \"LEFT_KNEE\",\n",
    "    \"RIGHT_KNEE\", \"LEFT_ANKLE\", \"RIGHT_ANKLE\", \"LEFT_HEEL\", \"RIGHT_HEEL\",\n",
    "    \"LEFT_FOOT_INDEX\", \"RIGHT_FOOT_INDEX\",\n",
    "]\n",
    "\n",
    "# Generate feature columns\n",
    "feature_columns = [\"label\"]\n",
    "for lm in IMPORTANT_LMS:\n",
    "    feature_columns += [f\"{lm.lower()}_x\", f\"{lm.lower()}_y\", f\"{lm.lower()}_z\", f\"{lm.lower()}_v\"]\n",
    "\n",
    "# Create model directory\n",
    "os.makedirs(\"model\", exist_ok=True)\n",
    "\n",
    "# Load datasets\n",
    "try:\n",
    "    train_df = pd.read_csv(\"train.csv\")\n",
    "    test_df = pd.read_csv(\"test.csv\")\n",
    "except FileNotFoundError:\n",
    "    print(\"Error: train.csv or test.csv not found!\")\n",
    "    exit(1)\n",
    "\n",
    "# Check for missing columns\n",
    "missing_cols = [col for col in feature_columns if col not in train_df.columns]\n",
    "if missing_cols:\n",
    "    print(f\"Error: Missing columns in dataset: {missing_cols}\")\n",
    "    exit(1)\n",
    "\n",
    "# Prepare features and labels\n",
    "X_train = train_df.drop(columns=[\"label\"])\n",
    "y_train = train_df[\"label\"]\n",
    "X_test = test_df.drop(columns=[\"label\"])\n",
    "y_test = test_df[\"label\"]\n",
    "\n",
    "# Scale the data\n",
    "scaler = StandardScaler()\n",
    "X_train_scaled = scaler.fit_transform(X_train)\n",
    "X_test_scaled = scaler.transform(X_test)\n",
    "joblib.dump(scaler, \"model/plank_input_scaler.pkl\")\n",
    "\n",
    "# Define models with tuned hyperparameters\n",
    "models = {\n",
    "    \"Logistic Regression\": LogisticRegression(C=1.0, max_iter=1000),\n",
    "    \"Random Forest\": RandomForestClassifier(n_estimators=200, max_depth=15, random_state=42),\n",
    "    \"Gradient Boosting\": GradientBoostingClassifier(n_estimators=150, learning_rate=0.05, max_depth=7, random_state=42),\n",
    "    \"SVM\": SVC(C=2.0, kernel='rbf', probability=True),\n",
    "    \"KNN\": KNeighborsClassifier(n_neighbors=7, weights='distance')\n",
    "}\n",
    "\n",
    "best_model = None\n",
    "best_accuracy = 0\n",
    "\n",
    "# Train and evaluate models\n",
    "for name, model in models.items():\n",
    "    model.fit(X_train_scaled, y_train)\n",
    "    cv_scores = cross_val_score(model, X_train_scaled, y_train, cv=5)\n",
    "    mean_cv_score = np.mean(cv_scores)\n",
    "    y_pred = model.predict(X_test_scaled)\n",
    "    test_accuracy = accuracy_score(y_test, y_pred)\n",
    "    print(f\"{name} -> CV Accuracy: {mean_cv_score:.4f}, Test Accuracy: {test_accuracy:.4f}\")\n",
    "    if test_accuracy > best_accuracy:\n",
    "        best_accuracy = test_accuracy\n",
    "        best_model = model\n",
    "        best_model_name = name\n",
    "\n",
    "# Save the best model\n",
    "with open(\"model/plank_model.pkl\", \"wb\") as f:\n",
    "    joblib.dump(best_model, f)\n",
    "print(f\"Best model ({best_model_name}) saved with accuracy: {best_accuracy:.4f}\")\n",
    "\n",
    "# Verify shapes for debugging\n",
    "print(\"X_train shape:\", X_train.shape)  # Should be (n_samples, 64)\n",
    "print(\"Number of features expected:\", len(feature_columns) - 1)  # Should be 64"
   ]
  },
  {
   "cell_type": "code",
   "execution_count": 7,
   "metadata": {},
   "outputs": [
    {
     "name": "stdout",
     "output_type": "stream",
     "text": [
      "Type of scaler: <class 'sklearn.preprocessing._data.StandardScaler'>\n",
      "Has 'transform' method: True\n"
     ]
    }
   ],
   "source": [
    "# Save as check_scaler.py\n",
    "import joblib\n",
    "\n",
    "scaler = joblib.load(\"/Users/anandhu/Desktop/Exercise Correction App/plank/model/plank_input_scaler.pkl\")\n",
    "print(\"Type of scaler:\", type(scaler))\n",
    "print(\"Has 'transform' method:\", hasattr(scaler, 'transform'))"
   ]
  }
 ],
 "metadata": {
  "kernelspec": {
   "display_name": "env",
   "language": "python",
   "name": "python3"
  },
  "language_info": {
   "codemirror_mode": {
    "name": "ipython",
    "version": 3
   },
   "file_extension": ".py",
   "mimetype": "text/x-python",
   "name": "python",
   "nbconvert_exporter": "python",
   "pygments_lexer": "ipython3",
   "version": "3.9.21"
  }
 },
 "nbformat": 4,
 "nbformat_minor": 2
}
